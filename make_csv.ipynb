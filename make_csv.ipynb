{
 "cells": [
  {
   "cell_type": "code",
   "execution_count": 4,
   "metadata": {},
   "outputs": [],
   "source": [
    "import os\n",
    "import pandas as pd"
   ]
  },
  {
   "cell_type": "code",
   "execution_count": 5,
   "metadata": {},
   "outputs": [],
   "source": [
    "valid_folder =10\n",
    "lis = list(range(1,11))\n",
    "lis.remove(valid_folder)\n",
    "forders = [f\"OCTs{i}\" for i in lis]\n",
    "train_central_ids = [{\"path\":os.path.join(os.getcwd(), \"OCT\", folder, folder, id), \"class\": os.path.join(os.getcwd(), \"OCT\", folder.replace(\"OCT\", \"label\"), folder.replace(\"OCT\", \"label\"), id)} \n",
    "                     for folder in forders for id in os.listdir(os.path.join(os.getcwd(), \"OCT\", folder, folder))]\n",
    "valid_central_ids = [{\"path\":os.path.join(os.getcwd(), \"OCT\", f\"OCTs{valid_folder}\", f\"OCTs{valid_folder}\", id), \"class\": os.path.join(os.getcwd(), \"OCT\", f\"labels{valid_folder}\", f\"labels{valid_folder}\", id)} \n",
    "                    for id in os.listdir(os.path.join(os.getcwd(), \"OCT\", f\"OCTs{valid_folder}\", f\"OCTs{valid_folder}\"))]"
   ]
  },
  {
   "cell_type": "code",
   "execution_count": 6,
   "metadata": {},
   "outputs": [],
   "source": [
    "dir = \"./CSV/\"\n",
    "train_central_paths=[id[\"path\"] for id in train_central_ids]\n",
    "train_central_class=[id[\"class\"] for id in train_central_ids]\n",
    "train_central_frame=pd.DataFrame({\"path\": train_central_paths, \"class\": train_central_class})\n",
    "train_central_frame.to_csv(dir+\"train_central.csv\")"
   ]
  },
  {
   "cell_type": "code",
   "execution_count": 7,
   "metadata": {},
   "outputs": [],
   "source": [
    "dir = \"./CSV/\"\n",
    "valid_central_paths=[id[\"path\"] for id in valid_central_ids]\n",
    "valid_central_class=[id[\"class\"] for id in valid_central_ids]\n",
    "valid_central_frame=pd.DataFrame({\"path\": valid_central_paths, \"class\": valid_central_class})\n",
    "valid_central_frame.to_csv(dir+\"valid_central.csv\")"
   ]
  }
 ],
 "metadata": {
  "kernelspec": {
   "display_name": "OCT",
   "language": "python",
   "name": "python3"
  },
  "language_info": {
   "codemirror_mode": {
    "name": "ipython",
    "version": 3
   },
   "file_extension": ".py",
   "mimetype": "text/x-python",
   "name": "python",
   "nbconvert_exporter": "python",
   "pygments_lexer": "ipython3",
   "version": "3.10.12"
  },
  "orig_nbformat": 4
 },
 "nbformat": 4,
 "nbformat_minor": 2
}
