{
 "cells": [
  {
   "cell_type": "code",
   "execution_count": 7,
   "metadata": {},
   "outputs": [],
   "source": [
    "from torchmetrics import JaccardIndex\n",
    "import torch\n",
    "import torchvision"
   ]
  },
  {
   "cell_type": "code",
   "execution_count": 8,
   "metadata": {},
   "outputs": [],
   "source": [
    "def calculate_mIOU(predictions, targets, threshold:float):\n",
    "    # targets = targets.type(torch.IntTensor)\n",
    "    # correct = (predictions==targets).sum(dim=(1,2,3))\n",
    "    # union = (predictions*targets).sum(dim=(1,2,3))\n",
    "    # miou = (correct/union).mean().item()\n",
    "    iouf=JaccardIndex(task=\"binary\", threshold=threshold, num_classes=1, num_labels=1)\n",
    "    return iouf(predictions.cpu(), targets.cpu())"
   ]
  },
  {
   "cell_type": "code",
   "execution_count": 9,
   "metadata": {},
   "outputs": [],
   "source": [
    "prediction=torch.randint(0,2,(16,1,256,256))\n",
    "targets = torch.randint(0,2,(16,1,256,256))"
   ]
  },
  {
   "cell_type": "code",
   "execution_count": 10,
   "metadata": {},
   "outputs": [
    {
     "data": {
      "text/plain": [
       "tensor(0.3337)"
      ]
     },
     "execution_count": 10,
     "metadata": {},
     "output_type": "execute_result"
    }
   ],
   "source": [
    "calculate_mIOU(predictions=prediction, targets=targets, threshold=0.5)"
   ]
  }
 ],
 "metadata": {
  "kernelspec": {
   "display_name": "OCT",
   "language": "python",
   "name": "python3"
  },
  "language_info": {
   "codemirror_mode": {
    "name": "ipython",
    "version": 3
   },
   "file_extension": ".py",
   "mimetype": "text/x-python",
   "name": "python",
   "nbconvert_exporter": "python",
   "pygments_lexer": "ipython3",
   "version": "3.10.12"
  },
  "orig_nbformat": 4
 },
 "nbformat": 4,
 "nbformat_minor": 2
}
